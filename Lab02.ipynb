{
  "nbformat": 4,
  "nbformat_minor": 0,
  "metadata": {
    "colab": {
      "provenance": [],
      "toc_visible": true
    },
    "kernelspec": {
      "name": "python3",
      "display_name": "Python 3"
    },
    "language_info": {
      "name": "python"
    }
  },
  "cells": [
    {
      "cell_type": "code",
      "execution_count": null,
      "metadata": {
        "id": "Wjk2ozCn4SmG"
      },
      "outputs": [],
      "source": []
    },
    {
      "cell_type": "markdown",
      "source": [],
      "metadata": {
        "id": "OP6l-pop4adb"
      }
    },
    {
      "cell_type": "markdown",
      "source": [
        "## **Lists**"
      ],
      "metadata": {
        "id": "UkeKvo825DB6"
      }
    },
    {
      "cell_type": "code",
      "source": [
        "!pip install numpy\n"
      ],
      "metadata": {
        "colab": {
          "base_uri": "https://localhost:8080/"
        },
        "id": "EvqERbTA5sUq",
        "outputId": "b51dcff6-ae9d-43b0-aaa8-9363a999b0fd"
      },
      "execution_count": 1,
      "outputs": [
        {
          "output_type": "stream",
          "name": "stdout",
          "text": [
            "Requirement already satisfied: numpy in /usr/local/lib/python3.12/dist-packages (2.0.2)\n"
          ]
        }
      ]
    },
    {
      "cell_type": "code",
      "source": [
        "#Create a list of 10 Integers\n",
        "numbers=[2,10,23,5,89,67,34,22,11,90]\n",
        "print('Original List:' ,numbers)\n",
        "\n",
        "#Sum,max and min\n",
        "print('Sum:' , sum(numbers))\n",
        "print('Max:' , max(numbers))\n",
        "print('Min:' , min(numbers))\n",
        "\n",
        "#Add a new element to the list and remove an existing one\n",
        "numbers.append(50)\n",
        "numbers.remove(23)\n",
        "print('updated List:' , numbers)\n",
        "\n",
        "#sort list in Assending And descending order\n",
        "print('Ascending:', sorted(numbers))\n",
        "print('Descending', sorted(numbers,reverse=True))"
      ],
      "metadata": {
        "colab": {
          "base_uri": "https://localhost:8080/"
        },
        "id": "ynYMfh9gA5hW",
        "outputId": "b2c44e38-abfa-4f59-be7d-be50186df3c4"
      },
      "execution_count": 6,
      "outputs": [
        {
          "output_type": "stream",
          "name": "stdout",
          "text": [
            "Original List: [2, 10, 23, 5, 89, 67, 34, 22, 11, 90]\n",
            "Sum: 353\n",
            "Max: 90\n",
            "Min: 2\n",
            "updated List: [2, 10, 5, 89, 67, 34, 22, 11, 90, 50]\n",
            "Ascending: [2, 5, 10, 11, 22, 34, 50, 67, 89, 90]\n",
            "Descending [90, 89, 67, 50, 34, 22, 11, 10, 5, 2]\n"
          ]
        }
      ]
    },
    {
      "cell_type": "markdown",
      "source": [
        "# **Tuples**"
      ],
      "metadata": {
        "id": "GYTA__To508p"
      }
    },
    {
      "cell_type": "code",
      "source": [
        "#Create a tuple with 5 strings\n",
        "fruits =('apple', 'banana','cherry','mango','grapes')\n",
        "\n",
        "#print 2nd and last element\n",
        "print('Second Element:',fruits[1])\n",
        "print('Last Element:',fruits[-1])\n",
        "\n",
        "#try to remove or check\n",
        "#fruits.remove('apple')\n",
        "\n",
        "#convert tuple to list\n",
        "fruit_list=list(fruits)\n",
        "fruit_list[2]='orange'\n",
        "print('Modified List:' ,fruit_list)"
      ],
      "metadata": {
        "colab": {
          "base_uri": "https://localhost:8080/"
        },
        "id": "uCDXUSOPFEcs",
        "outputId": "152d18fb-1ec4-4616-de8d-8a94854bab8e"
      },
      "execution_count": 9,
      "outputs": [
        {
          "output_type": "stream",
          "name": "stdout",
          "text": [
            "Second Element: banana\n",
            "Last Element: grapes\n",
            "Modified List: ['apple', 'banana', 'orange', 'mango', 'grapes']\n"
          ]
        }
      ]
    },
    {
      "cell_type": "markdown",
      "source": [],
      "metadata": {
        "id": "WPiSaiIJ64ex"
      }
    },
    {
      "cell_type": "markdown",
      "source": [
        "# **Sets**"
      ],
      "metadata": {
        "id": "-k1H87YQ55-J"
      }
    },
    {
      "cell_type": "code",
      "source": [
        "#Create sets\n",
        "set_a = {1,2,3,4,5}\n",
        "set_b = {4,5,6,7,8}\n",
        "#Union,Intersection,Difference\n",
        "print('Union:',set_a | set_b)\n",
        "print('Intersection:')"
      ],
      "metadata": {
        "id": "RMYc5xxSAp_O"
      },
      "execution_count": null,
      "outputs": []
    },
    {
      "cell_type": "markdown",
      "source": [
        "# **Dictionaries**"
      ],
      "metadata": {
        "id": "Rx2xdL4R5-AR"
      }
    },
    {
      "cell_type": "code",
      "source": [
        "#create dictionary\n",
        "students = {'Ali':85,'Sara':90,'Ahmed':78,'Zara':92,'Omar':88}\n",
        "\n",
        "#print keys and values\n",
        "print('keys:', students.key())\n",
        "print('Values:', students.values())\n",
        "\n",
        "#update value\n",
        "students['Ali']"
      ],
      "metadata": {
        "id": "MhZEfyqvJnOp"
      },
      "execution_count": null,
      "outputs": []
    },
    {
      "cell_type": "markdown",
      "source": [
        "# **Numpy**"
      ],
      "metadata": {
        "id": "zmLbiPCJ6DZx"
      }
    },
    {
      "cell_type": "markdown",
      "source": [
        "# **Matplotlib**"
      ],
      "metadata": {
        "id": "I8HDf4r66ZNx"
      }
    }
  ]
}