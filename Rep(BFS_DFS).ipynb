{
  "nbformat": 4,
  "nbformat_minor": 0,
  "metadata": {
    "colab": {
      "provenance": []
    },
    "kernelspec": {
      "name": "python3",
      "display_name": "Python 3"
    },
    "language_info": {
      "name": "python"
    }
  },
  "cells": [
    {
      "cell_type": "markdown",
      "source": [
        "\n",
        "**BFS and DFS**"
      ],
      "metadata": {
        "id": "am802eJ5RNQe"
      }
    },
    {
      "cell_type": "code",
      "execution_count": 19,
      "metadata": {
        "id": "T5d_9avD7zws",
        "colab": {
          "base_uri": "https://localhost:8080/"
        },
        "collapsed": true,
        "outputId": "e041cbc1-0fda-4c3d-8142-7cf707bb964e"
      },
      "outputs": [
        {
          "output_type": "stream",
          "name": "stdout",
          "text": [
            "BFS Shortest Path from Islamabad to Peshawar: ['Islamabad', 'Muzafrabad', 'Karachi', 'Peshawar']\n",
            "DFS Path from Islamabad to Peshawar: ['Islamabad', 'Muzafrabad', 'Karachi', 'Peshawar']\n"
          ]
        }
      ],
      "source": [
        "from collections import deque\n",
        "\n",
        "pakistan_cities = {\n",
        "\n",
        "    'Islamabad': ['Muzafrabad'],\n",
        "    'Muzafrabad': ['Karachi', 'Gilgit'],\n",
        "    'Gilgit': ['Muzafrabad', 'Multan', 'Neelum'],\n",
        "    'Abbotabad': ['Gilgit', 'Lahore'],\n",
        "    'Neelum': ['Gilgit'],\n",
        "    'Lahore': ['Abbotabad', 'Islamabad'],\n",
        "    'Karachi': ['Lahore', 'Peshawar'],\n",
        "    'Peshawar': ['Islamabad']\n",
        "#grapes nodes and keys here\n",
        "\n",
        "}\n",
        "\n",
        "def bfs_shortest_path(graph,start,goal):\n",
        "\n",
        "#double ended queue to store explore paths\n",
        "  queue = deque([[start]])\n",
        "#keep track of visted city to avoid visit again or infinite loop\n",
        "  visited = set()\n",
        " #loop to check all paths\n",
        "  while queue:\n",
        "\n",
        "   #get path at bigining\n",
        "    path = queue.popleft()\n",
        "    current_city = path[-1]\n",
        "  #check current city for goal\n",
        "    if current_city == goal:\n",
        "      return path\n",
        "\n",
        "    if current_city not in visited:\n",
        "      visited.add ( current_city )\n",
        "\n",
        "      for neighbor in graph.get(current_city, []):\n",
        "\n",
        "        new_path = list(path)\n",
        "\n",
        "        new_path.append(neighbor)\n",
        "        #append is to start new path in queue if goal not found\n",
        "        queue.append(new_path)\n",
        "\n",
        "  return None\n",
        "\n",
        "#DFS\n",
        "def dfs_path(graph, start, goal, path=None, visited=None):\n",
        "    if path is None:\n",
        "        path = []\n",
        "    if visited is None:\n",
        "        visited = set()\n",
        "\n",
        "    path.append(start)\n",
        "\n",
        "    visited.add(start)\n",
        "\n",
        "    if start == goal:\n",
        "        return path\n",
        "\n",
        "    for neighbor in graph.get(start, []):\n",
        "        if neighbor not in visited:\n",
        "\n",
        "            result = dfs_path(graph, neighbor, goal, path.copy(), visited.copy())\n",
        "            # If a path is found, return it immediately\n",
        "            if result:\n",
        "                return result\n",
        "\n",
        "    return None\n",
        "\n",
        "start_city = \"Islamabad\"\n",
        "goal_city = \"Peshawar\"\n",
        "\n",
        "bfs_result = bfs_shortest_path(pakistan_cities, start_city, goal_city)\n",
        "print(\"BFS Shortest Path from Islamabad to Peshawar:\", bfs_result)\n",
        "\n",
        "# DFS\n",
        "dfs_result = dfs_path(pakistan_cities, start_city, goal_city)\n",
        "print(\"DFS Path from Islamabad to Peshawar:\", dfs_result)"
      ]
    },
    {
      "cell_type": "markdown",
      "source": [],
      "metadata": {
        "id": "_qi1CoIOEgbr"
      }
    }
  ]
}