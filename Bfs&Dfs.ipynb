{
  "nbformat": 4,
  "nbformat_minor": 0,
  "metadata": {
    "colab": {
      "provenance": [],
      "toc_visible": true
    },
    "kernelspec": {
      "name": "python3",
      "display_name": "Python 3"
    },
    "language_info": {
      "name": "python"
    }
  },
  "cells": [
    {
      "cell_type": "code",
      "source": [
        "# BFS and DFS test (simple version)\n",
        "\n",
        "graph = {\n",
        "    0: [2, 4, 5],\n",
        "    1: [4],\n",
        "    2: [3],\n",
        "    3: [],\n",
        "    4: [2],\n",
        "    5: [1, 4]\n",
        "}\n",
        "\n",
        "def bfs(start, graph):\n",
        "    visited = []\n",
        "    queue = [start]\n",
        "    while queue:\n",
        "        node = queue.pop(0)\n",
        "        if node not in visited:\n",
        "            visited.append(node)\n",
        "            queue.extend(graph[node])\n",
        "    return visited\n",
        "\n",
        "def dfs(start, graph):\n",
        "    visited = []\n",
        "    stack = [start]\n",
        "    while stack:\n",
        "        node = stack.pop()\n",
        "        if node not in visited:\n",
        "            visited.append(node)\n",
        "            stack.extend(reversed(graph[node]))\n",
        "    return visited\n",
        "\n",
        "print(\"BFS Traversal:\", bfs(0, graph))\n",
        "print(\"DFS Traversal:\", dfs(0, graph))\n"
      ],
      "metadata": {
        "colab": {
          "base_uri": "https://localhost:8080/"
        },
        "id": "zrBfKVue8BD7",
        "outputId": "4bc7ed77-b376-4f01-9ece-f3685246d1e6"
      },
      "execution_count": null,
      "outputs": [
        {
          "output_type": "stream",
          "name": "stdout",
          "text": [
            "BFS Traversal: [0, 2, 4, 5, 3, 1]\n",
            "DFS Traversal: [0, 2, 3, 4, 5, 1]\n"
          ]
        }
      ]
    }
  ]
}