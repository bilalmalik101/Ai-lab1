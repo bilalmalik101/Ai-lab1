{
  "nbformat": 4,
  "nbformat_minor": 0,
  "metadata": {
    "colab": {
      "provenance": [],
      "toc_visible": true
    },
    "kernelspec": {
      "name": "python3",
      "display_name": "Python 3"
    },
    "language_info": {
      "name": "python"
    }
  },
  "cells": [
    {
      "cell_type": "code",
      "execution_count": null,
      "metadata": {
        "colab": {
          "base_uri": "https://localhost:8080/"
        },
        "collapsed": true,
        "id": "a2TH4M789T7D",
        "outputId": "01568586-f7bd-4f8f-d728-857da21a83a4"
      },
      "outputs": [
        {
          "output_type": "stream",
          "name": "stdout",
          "text": [
            "Original Student Information:\n",
            "name : Bilal Malik\n",
            "age : 22\n",
            "roll_number : SP23-BSE-131\n",
            "grade : A\n",
            "\n",
            "Updated Student Information:\n",
            "name:Bilal Malik\n",
            "age:22\n",
            "grade:A+\n",
            "email:bilalmalik@gmail.com;\n"
          ]
        }
      ],
      "source": [
        "#Task2 : dictionary operations\n",
        "student = {\n",
        "    \"name\" : \"Bilal Malik\",\n",
        "    \"age\"  : 22,\n",
        "    \"roll_number\":\"SP23-BSE-131\",\n",
        "    \"grade\" : \"A\"\n",
        "}\n",
        "\n",
        "print(\"Original Student Information:\")\n",
        "for key,value in student.items():\n",
        "   print(f\"{key} : {value}\")\n",
        "\n",
        "student[\"grade\"]=\"A+\"\n",
        "student[\"email\"]=\"bilalmalik@gmail.com;\"\n",
        "del student[\"roll_number\"]\n",
        "print(\"\\nUpdated Student Information:\")\n",
        "for key,value in student.items():\n",
        " print(f\"{key}:{value}\")\n"
      ]
    },
    {
      "cell_type": "code",
      "source": [
        "#Task 3\n",
        "import matplotlib.pyplot as plt\n",
        "\n",
        "X=[1,2,3,4,5]\n",
        "Y=[2,4,6,8,10]\n",
        "\n",
        "plt.plot(X,Y,marker='o',color='blue',linewidth=2)\n",
        "\n",
        "plt.title(\"Simple Line Plot\")\n",
        "plt.xlabel(\"X-axis\")\n",
        "plt.ylabel(\"Y-axis\")\n",
        "\n",
        "plt.grid(True)\n",
        "\n",
        "plt.show()"
      ],
      "metadata": {
        "colab": {
          "base_uri": "https://localhost:8080/",
          "height": 472
        },
        "id": "Z3PlNvdhCNzT",
        "outputId": "00114398-62d8-405a-8db1-d84e95a47c4b"
      },
      "execution_count": null,
      "outputs": [
        {
          "output_type": "display_data",
          "data": {
            "text/plain": [
              "<Figure size 640x480 with 1 Axes>"
            ],
            "image/png": "[encoded data removed]"
          },
          "metadata": {}
        }
      ]
    },
    {
      "cell_type": "code",
      "source": [
        "# Task #5: Water Jug Problem\n",
        "\n",
        "from collections import deque\n",
        "import time\n",
        "\n",
        "jug1, jug2, goal = 4, 3, 2\n",
        "\n",
        "def bfs_water_jug():\n",
        "    visited, queue, path = set(), deque([(0, 0)]), []\n",
        "    while queue:\n",
        "        a, b = queue.popleft()\n",
        "        if (a, b) in visited:\n",
        "            continue\n",
        "        visited.add((a, b))\n",
        "        path.append((a, b))\n",
        "        if a == goal or b == goal:\n",
        "            return path\n",
        "\n",
        "        moves = [\n",
        "            (jug1, b), (a, jug2),\n",
        "            (0, b), (a, 0),\n",
        "            (a - min(a, jug2 - b), b + min(a, jug2 - b)),\n",
        "            (a + min(b, jug1 - a), b - min(b, jug1 - a))\n",
        "        ]\n",
        "        for m in moves:\n",
        "            if m not in visited:\n",
        "                queue.append(m)\n",
        "    return None\n",
        "\n",
        "def dfs_water_jug():\n",
        "    visited, stack, path = set(), [(0, 0)], []\n",
        "    while stack:\n",
        "        a, b = stack.pop()\n",
        "        if (a, b) in visited:\n",
        "            continue\n",
        "        visited.add((a, b))\n",
        "        path.append((a, b))\n",
        "        if a == goal or b == goal:\n",
        "            return path\n",
        "        moves = [\n",
        "            (jug1, b), (a, jug2),\n",
        "            (0, b), (a, 0),\n",
        "            (a - min(a, jug2 - b), b + min(a, jug2 - b)),\n",
        "            (a + min(b, jug1 - a), b - min(b, jug1 - a))\n",
        "        ]\n",
        "        for m in moves:\n",
        "            if m not in visited:\n",
        "                stack.append(m)\n",
        "    return None\n",
        "\n",
        "\n",
        "t0 = time.time(); bfs_result = bfs_water_jug(); bfs_time = time.time() - t0\n",
        "t0 = time.time(); dfs_result = dfs_water_jug(); dfs_time = time.time() - t0\n",
        "\n",
        "print(\"BFS Path:\", bfs_result)\n",
        "print(\"DFS Path:\", dfs_result)\n",
        "print(f\"\\nBFS Steps: {len(bfs_result)} | DFS Steps: {len(dfs_result)}\")\n",
        "print(f\"BFS Time: {bfs_time:.6f}s | DFS Time: {dfs_time:.6f}s\")\n"
      ],
      "metadata": {
        "colab": {
          "base_uri": "https://localhost:8080/"
        },
        "id": "zJBkPbsaUfAK",
        "outputId": "db26aec0-b956-447c-b5a4-40ea39eeb618"
      },
      "execution_count": 10,
      "outputs": [
        {
          "output_type": "stream",
          "name": "stdout",
          "text": [
            "BFS Path: [(0, 0), (4, 0), (0, 3), (4, 3), (1, 3), (3, 0), (1, 0), (3, 3), (0, 1), (4, 2)]\n",
            "DFS Path: [(0, 0), (0, 3), (3, 0), (3, 3), (4, 2)]\n",
            "\n",
            "BFS Steps: 10 | DFS Steps: 5\n",
            "BFS Time: 0.000101s | DFS Time: 0.000077s\n"
          ]
        }
      ]
    },
    {
      "cell_type": "code",
      "source": [
        "# Task #6: A* Search Algorithm Maze\n",
        "import heapq\n",
        "\n",
        "\n",
        "def heuristic(a, b):\n",
        "    return abs(a[0] - b[0]) + abs(a[1] - b[1])\n",
        "\n",
        "\n",
        "def astar(maze, start, goal):\n",
        "    rows, cols = len(maze), len(maze[0])\n",
        "    open_set = [(0, start)]\n",
        "    came_from = {}\n",
        "    g_score = {start: 0}\n",
        "\n",
        "    while open_set:\n",
        "        _, current = heapq.heappop(open_set)\n",
        "\n",
        "\n",
        "        if current == goal:\n",
        "            path = []\n",
        "            while current in came_from:\n",
        "                path.append(current)\n",
        "                current = came_from[current]\n",
        "            path.append(start)\n",
        "            return path[::-1]\n",
        "\n",
        "\n",
        "        for dx, dy in [(0,1), (1,0), (-1,0), (0,-1)]:\n",
        "            nx, ny = current[0] + dx, current[1] + dy\n",
        "            if 0 <= nx < rows and 0 <= ny < cols and maze[nx][ny] == 0:\n",
        "                neighbor = (nx, ny)\n",
        "                new_cost = g_score[current] + 1\n",
        "                if new_cost < g_score.get(neighbor, float('inf')):\n",
        "                    g_score[neighbor] = new_cost\n",
        "                    f_score = new_cost + heuristic(neighbor, goal)\n",
        "                    heapq.heappush(open_set, (f_score, neighbor))\n",
        "                    came_from[neighbor] = current\n",
        "    return None\n",
        "\n",
        "\n",
        "maze = [\n",
        "    [0,1,0,0,0,0],\n",
        "    [0,1,0,0,0,0],\n",
        "    [0,0,0,1,0,0],\n",
        "    [0,0,1,0,0,0],\n",
        "    [0,0,0,0,1,0],\n",
        "    [1,1,0,1,0,0]\n",
        "]\n",
        "\n",
        "start = (0, 0)   # A\n",
        "goal  = (5, 5)   # Y\n",
        "\n",
        "\n",
        "path = astar(maze, start, goal)\n",
        "\n",
        "print(\" A* Path:\", path)\n",
        "if path:\n",
        "    print(\" Total Steps:\", len(path))\n",
        "else:\n",
        "    print(\" No path found\")\n"
      ],
      "metadata": {
        "colab": {
          "base_uri": "https://localhost:8080/"
        },
        "id": "LC6ffKVmeJYw",
        "outputId": "1b3d5c84-8c0b-4aaf-b088-94b163b44ae7"
      },
      "execution_count": 13,
      "outputs": [
        {
          "output_type": "stream",
          "name": "stdout",
          "text": [
            "✅ A* Path: [(0, 0), (1, 0), (2, 0), (2, 1), (2, 2), (1, 2), (1, 3), (1, 4), (1, 5), (2, 5), (3, 5), (4, 5), (5, 5)]\n",
            "✅ Total Steps: 13\n"
          ]
        }
      ]
    }
  ]
}